{
 "cells": [
  {
   "cell_type": "markdown",
   "metadata": {
    "dotnet_interactive": {
     "language": "csharp"
    }
   },
   "source": [
    "# Notes from Distilling The Real Cost of Garbage Collectors by Cia Z. et al."
   ]
  },
  {
   "cell_type": "markdown",
   "metadata": {},
   "source": [
    "## Abstract\n",
    "\n",
    "1. Overall, there is little clarity about the true cost of GCs.\n",
    "2. Not having the full picture of the cost of GCs, the right tradeoffs, design constraints and evaluation criteria cannot be made. \n",
    "3. This paper develops a methodology to empirically estimate the cost of GCs by distilling out the explicitly identifiable GC costs to estimate the intrinsic application execution cost using different GCs; the minimum distilled cost forms a baseline.\n",
    "4. This methodology is applied to 5 production GCs in OpenJDK 17."
   ]
  },
  {
   "cell_type": "markdown",
   "metadata": {},
   "source": [
    "## Introduction \n",
    "\n",
    "1. 2 Key Problems discussed:\n",
    "   1. __Lack Of Clarity About Absolute Costs of GCs__\n",
    "      1. It's imperative to know the absolute costs of GCs.\n",
    "      2. This paper develops a language- and runtime-agnostic methodology to empirically place a lower bound on the absolute cost of GC for any cost metric.\n",
    "      3. __Intuition__: \n",
    "         1. If there was a magical zero cost GC, we could compare costs with a real GC and the difference would be the overhead of the real GC. However, there are no zero cost GCs, therefore, putting an empirically deduced lower bound on the cost is a good estimator of the baseline.\n",
    "         2. The minimum distilled cost over-estimates the baseline but can be used to derive an empirical lower bound on the absolute cost of each GC.\n",
    "      4. The key insight with this methodology is that the baseline can be approximated by distilling out explicitly identifiable GC costs from the total execution costs.  \n",
    "   2. __Misinterpretations of GC Evaluations Because of 1.__\n",
    "      1. Misinterpretations of GC evaluations can lead to horribly performing results because of the blurred optics.\n"
   ]
  },
  {
   "cell_type": "markdown",
   "metadata": {},
   "source": [
    "## Background and Related Work\n",
    "\n",
    "2 categories of GC costs that are hard to measure are highlighted:\n",
    "\n",
    "1. Costs tightly coupled with application execution. \n",
    "2. Indirect costs.\n",
    "\n",
    "### Absolute Costs of Garbage Collection\n",
    "\n",
    "1. The methodology presented makes minimal assumptions about the GC implementation to deduce the absolute costs of GCs.\n",
    "\n",
    "### Costs Tightly Coupled With Application Execution & Indirect Costs and Benefits\n",
    "\n",
    "1. The methodology presented doesn't go into the business of teasing out the indirect impact of GC such as explicitly computing the cost of thread contention, cache miss events and/or the cost of barriers.\n",
    "\n",
    "### Garbage Collections in OpenJDK\n",
    "\n",
    "1. 3 Groups Considered:\n",
    "   1. __Stop the World Collectors__:\n",
    "      1. Mutators must be stopped while the collector is running.\n",
    "      2. Serial and Parallel collectors.\n",
    "   2. __Concurrent Tracing Collectors__\n",
    "      1. Garbage identified concurrently via trace by not modifying the heap.\n",
    "      2. G1\n",
    "   3. __Concurrent Copying Collectors__\n",
    "      1. In addition to concurrent tracing, the collector performs reclamation concurrently by copying objects.\n",
    "      2. Shenandoah and ZGC."
   ]
  },
  {
   "cell_type": "markdown",
   "metadata": {},
   "source": [
    "## Distilling The Absolute Cost of Garbage Collection\n",
    "\n",
    "1. Definitions:\n",
    "   1. _Intrinsic Application Cost_: Theoretical ideal cost of running an application that includes the best GC benefit without any of the costs.\n",
    "   2. _Distilled Application Cost_: \n",
    "      1. Approximate of the intrinsic application cost of a given workload.\n",
    "      2. $$ Distilled\\ Cost \\equiv Total\\ Cost - Explicit\\ GC\\ Cost \\geq Intrinsic\\ Cost $$\n",
    "   3. _Minimum Distilled Application Cost (MDC)_:\n",
    "      1. $$ MDC \\equiv ( \\min_{g \\in GCs}\\ Distilled\\ cost_{g} ) \\geq Intrinsic\\ cost $$\n",
    "   4. _Lower Bound Overhead of Garbage Collectors_:\n",
    "      1. $$ (LBO_{g} \\equiv Total\\ Cost_{g} - MDC) \\leq Absolute\\ GC\\ cost_{g}  $$\n",
    "   5. _Normalized LBO_\n",
    "      1. $$ Normalized\\ LBO\\ (NLBO) \\equiv LBO/MDC $$"
   ]
  },
  {
   "cell_type": "markdown",
   "metadata": {},
   "source": [
    "## Recommendations\n",
    "\n",
    "1. Distillation Methodology should be used to report the Costs of GCs.\n",
    "2. Richer set of performance and cost metrics should be used when evaluating GCs.\n",
    "   1. Both wall clock and CPU cycles used should be reported."
   ]
  },
  {
   "cell_type": "markdown",
   "metadata": {},
   "source": [
    "## Conclusion"
   ]
  },
  {
   "cell_type": "markdown",
   "metadata": {},
   "source": [
    "## Others References To Better Grok The Material\n",
    "\n",
    "1. [Youtube Video](https://www.youtube.com/watch?v=OUZt0mo1xic)\n",
    "2. [Source Code](https://github.com/caizixian/distillation)"
   ]
  }
 ],
 "metadata": {
  "kernelspec": {
   "display_name": ".NET (C#)",
   "language": "C#",
   "name": ".net-csharp"
  },
  "language_info": {
   "name": "C#"
  }
 },
 "nbformat": 4,
 "nbformat_minor": 2
}
